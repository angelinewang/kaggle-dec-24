{
 "cells": [
  {
   "cell_type": "code",
   "execution_count": null,
   "metadata": {
    "vscode": {
     "languageId": "plaintext"
    }
   },
   "outputs": [],
   "source": [
    "import pandas as pd\n",
    "import scipy.stats as stats\n",
    "\n",
    "# Load dataset\n",
    "data = pd.read_csv(\"data/train.csv\")  # Replace with your dataset's file name\n",
    "\n",
    "# Handle missing values\n",
    "data = data.fillna(method=\"ffill\")  # Forward fill for simplicity; adjust as needed\n",
    "\n",
    "# Identify categorical columns\n",
    "categorical_columns = data.select_dtypes(include=['object', 'category']).columns.tolist()\n",
    "\n",
    "# Define target variable\n",
    "target_variable = 'Premium Amount'\n",
    "\n",
    "# Ensure the target variable is numerical\n",
    "if data[target_variable].dtype != 'float64' and data[target_variable].dtype != 'int64':\n",
    "    data[target_variable] = pd.to_numeric(data[target_variable], errors='coerce')\n",
    "\n",
    "# Remove rows with missing target values\n",
    "data = data.dropna(subset=[target_variable])\n",
    "\n",
    "# Run ANOVA for each categorical column\n",
    "anova_results = []\n",
    "for cat_col in categorical_columns:\n",
    "    try:\n",
    "        # Group data by the categorical column\n",
    "        groups = [group[target_variable].dropna() for _, group in data.groupby(cat_col)]\n",
    "        \n",
    "        # Perform ANOVA\n",
    "        f_stat, p_value = stats.f_oneway(*groups)\n",
    "        \n",
    "        # Determine significance\n",
    "        significance = \"Significant\" if p_value < 0.05 else \"Not Significant\"\n",
    "        \n",
    "        # Append results\n",
    "        anova_results.append({\n",
    "            'Categorical Variable': cat_col,\n",
    "            'F-Statistic': f_stat,\n",
    "            'P-Value': p_value,\n",
    "            'Significance': significance\n",
    "        })\n",
    "    except Exception as e:\n",
    "        # Handle cases where ANOVA cannot be computed\n",
    "        anova_results.append({\n",
    "            'Categorical Variable': cat_col,\n",
    "            'F-Statistic': None,\n",
    "            'P-Value': None,\n",
    "            'Significance': f\"Error: {str(e)}\"\n",
    "        })\n",
    "\n",
    "# Convert results to a DataFrame\n",
    "anova_df = pd.DataFrame(anova_results)\n",
    "\n",
    "print(anova_df)\n",
    "\n",
    "# Display results\n",
    "# import ace_tools as tools; tools.display_dataframe_to_user(name=\"ANOVA Results for Predicting Premium Amount\", dataframe=anova_df)"
   ]
  },
  {
   "cell_type": "code",
   "execution_count": null,
   "metadata": {
    "vscode": {
     "languageId": "plaintext"
    }
   },
   "outputs": [],
   "source": [
    "# The ANOVAs shows that Policy Start Date and Customer Feedback are significant in determining the Preimum amount "
   ]
  }
 ],
 "metadata": {
  "language_info": {
   "name": "python"
  }
 },
 "nbformat": 4,
 "nbformat_minor": 2
}
