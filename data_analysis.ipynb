{
 "cells": [
  {
   "cell_type": "code",
   "execution_count": 2,
   "metadata": {},
   "outputs": [
    {
     "name": "stderr",
     "output_type": "stream",
     "text": [
      "/var/folders/sx/hkqgssrx0jd_jb2_792hz_hm0000gp/T/ipykernel_53613/2022671173.py:8: FutureWarning: DataFrame.fillna with 'method' is deprecated and will raise in a future version. Use obj.ffill() or obj.bfill() instead.\n",
      "  data = data.fillna(method=\"ffill\")  # Forward fill for simplicity; adjust as needed\n"
     ]
    },
    {
     "name": "stdout",
     "output_type": "stream",
     "text": [
      "   Categorical Variable  F-Statistic       P-Value     Significance\n",
      "0                Gender     0.031099  8.600207e-01  Not Significant\n",
      "1        Marital Status     0.337613  7.134715e-01  Not Significant\n",
      "2       Education Level     1.145105  3.292494e-01  Not Significant\n",
      "3            Occupation     0.110829  8.950920e-01  Not Significant\n",
      "4              Location     0.676414  5.084371e-01  Not Significant\n",
      "5           Policy Type     0.470910  6.244336e-01  Not Significant\n",
      "6     Policy Start Date     1.078124  1.524729e-92      Significant\n",
      "7     Customer Feedback     3.038610  4.790182e-02      Significant\n",
      "8        Smoking Status     0.031783  8.585039e-01  Not Significant\n",
      "9    Exercise Frequency     0.483057  6.940501e-01  Not Significant\n",
      "10        Property Type     1.051181  3.495250e-01  Not Significant\n"
     ]
    }
   ],
   "source": [
    "import pandas as pd\n",
    "import scipy.stats as stats\n",
    "\n",
    "# Load dataset\n",
    "data = pd.read_csv(\"data/train.csv\")  # Replace with your dataset's file name\n",
    "\n",
    "# Handle missing values\n",
    "data = data.fillna(method=\"ffill\")  # Forward fill for simplicity; adjust as needed\n",
    "\n",
    "# Identify categorical columns\n",
    "categorical_columns = data.select_dtypes(include=['object', 'category']).columns.tolist()\n",
    "\n",
    "# Define target variable\n",
    "target_variable = 'Premium Amount'\n",
    "\n",
    "# Ensure the target variable is numerical\n",
    "if data[target_variable].dtype != 'float64' and data[target_variable].dtype != 'int64':\n",
    "    data[target_variable] = pd.to_numeric(data[target_variable], errors='coerce')\n",
    "\n",
    "# Remove rows with missing target values\n",
    "data = data.dropna(subset=[target_variable])\n",
    "\n",
    "# Run ANOVA for each categorical column\n",
    "anova_results = []\n",
    "for cat_col in categorical_columns:\n",
    "    try:\n",
    "        # Group data by the categorical column\n",
    "        groups = [group[target_variable].dropna() for _, group in data.groupby(cat_col)]\n",
    "        \n",
    "        # Perform ANOVA\n",
    "        f_stat, p_value = stats.f_oneway(*groups)\n",
    "        \n",
    "        # Determine significance\n",
    "        significance = \"Significant\" if p_value < 0.05 else \"Not Significant\"\n",
    "        \n",
    "        # Append results\n",
    "        anova_results.append({\n",
    "            'Categorical Variable': cat_col,\n",
    "            'F-Statistic': f_stat,\n",
    "            'P-Value': p_value,\n",
    "            'Significance': significance\n",
    "        })\n",
    "    except Exception as e:\n",
    "        # Handle cases where ANOVA cannot be computed\n",
    "        anova_results.append({\n",
    "            'Categorical Variable': cat_col,\n",
    "            'F-Statistic': None,\n",
    "            'P-Value': None,\n",
    "            'Significance': f\"Error: {str(e)}\"\n",
    "        })\n",
    "\n",
    "# Convert results to a DataFrame\n",
    "anova_df = pd.DataFrame(anova_results)\n",
    "\n",
    "print(anova_df)\n",
    "\n",
    "# Display results\n",
    "# import ace_tools as tools; tools.display_dataframe_to_user(name=\"ANOVA Results for Predicting Premium Amount\", dataframe=anova_df)"
   ]
  },
  {
   "cell_type": "code",
   "execution_count": 3,
   "metadata": {},
   "outputs": [],
   "source": [
    "# The ANOVAs shows that Policy Start Date and Customer Feedback are significant in determining the Preimum amount "
   ]
  },
  {
   "cell_type": "code",
   "execution_count": 4,
   "metadata": {},
   "outputs": [
    {
     "data": {
      "text/plain": [
       "0                 Gender\n",
       "1         Marital Status\n",
       "2        Education Level\n",
       "3             Occupation\n",
       "4               Location\n",
       "5            Policy Type\n",
       "6      Policy Start Date\n",
       "7      Customer Feedback\n",
       "8         Smoking Status\n",
       "9     Exercise Frequency\n",
       "10         Property Type\n",
       "Name: Categorical Variable, dtype: object"
      ]
     },
     "execution_count": 4,
     "metadata": {},
     "output_type": "execute_result"
    }
   ],
   "source": [
    "anova_df[\"Categorical Variable\"]"
   ]
  },
  {
   "cell_type": "code",
   "execution_count": 7,
   "metadata": {},
   "outputs": [
    {
     "name": "stdout",
     "output_type": "stream",
     "text": [
      "Optimal number of clusters: 10\n"
     ]
    }
   ],
   "source": [
    "import pandas as pd\n",
    "import numpy as np\n",
    "from sklearn.mixture import GaussianMixture\n",
    "from sklearn.preprocessing import StandardScaler\n",
    "from scipy.stats import f_oneway\n",
    "\n",
    "# Load the dataset (replace with your actual DataFrame)\n",
    "# df = pd.read_csv(\"your_dataset.csv\")\n",
    "\n",
    "# Identify continuous variables\n",
    "continuous_columns = ['Age', 'Annual Income', 'Number of Dependents', \n",
    "                      'Health Score', 'Previous Claims', 'Vehicle Age', \n",
    "                      'Credit Score', 'Insurance Duration']\n",
    "\n",
    "continuous_data = data[continuous_columns]\n",
    "\n",
    "# Standardize the continuous variables\n",
    "scaler = StandardScaler()\n",
    "scaled_data = scaler.fit_transform(continuous_data)\n",
    "\n",
    "# Determine the optimal number of clusters using BIC\n",
    "bic_scores = []\n",
    "n_components_range = range(2, 11)\n",
    "\n",
    "for n in n_components_range:\n",
    "    gmm = GaussianMixture(n_components=n, random_state=42)\n",
    "    gmm.fit(scaled_data)\n",
    "    bic_scores.append(gmm.bic(scaled_data))\n",
    "\n",
    "# Optimal number of clusters\n",
    "optimal_clusters = n_components_range[np.argmin(bic_scores)]\n",
    "print(f\"Optimal number of clusters: {optimal_clusters}\")\n",
    "\n",
    "# Fit GMM with the optimal number of clusters\n",
    "gmm = GaussianMixture(n_components=optimal_clusters, random_state=42)\n",
    "gmm.fit(scaled_data)\n",
    "\n",
    "# Assign cluster labels to the DataFrame\n",
    "data['Cluster_Label'] = gmm.predict(scaled_data)"
   ]
  },
  {
   "cell_type": "code",
   "execution_count": null,
   "metadata": {},
   "outputs": [],
   "source": [
    "# Run ANOVA with Cluster_Label as the categorical variable\n",
    "anova_results = []\n",
    "target_variable = 'Premium Amount'\n",
    "\n",
    "for col in continuous_columns:\n",
    "    # Group data by clusters\n",
    "    groups = [data[data['Cluster_Label'] == cluster][col] for cluster in range(optimal_clusters)]\n",
    "    \n",
    "    # Perform ANOVA\n",
    "    f_stat, p_value = f_oneway(*groups)\n",
    "    \n",
    "    # Determine significance\n",
    "    significance = \"Significant\" if p_value < 0.05 else \"Not Significant\"\n",
    "    \n",
    "    # Append results\n",
    "    anova_results.append({\n",
    "        'Variable': col,\n",
    "        'F-Statistic': f_stat,\n",
    "        'P-Value': p_value,\n",
    "        'Significance': significance\n",
    "    })\n",
    "\n",
    "# Convert results to a DataFrame\n",
    "anova_df = pd.DataFrame(anova_results)\n",
    "\n",
    "print(anova_df)"
   ]
  }
 ],
 "metadata": {
  "kernelspec": {
   "display_name": "Python 3",
   "language": "python",
   "name": "python3"
  },
  "language_info": {
   "codemirror_mode": {
    "name": "ipython",
    "version": 3
   },
   "file_extension": ".py",
   "mimetype": "text/x-python",
   "name": "python",
   "nbconvert_exporter": "python",
   "pygments_lexer": "ipython3",
   "version": "3.11.2"
  }
 },
 "nbformat": 4,
 "nbformat_minor": 2
}
