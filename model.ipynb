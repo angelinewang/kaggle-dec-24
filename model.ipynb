{
 "cells": [
  {
   "cell_type": "code",
   "execution_count": null,
   "metadata": {},
   "outputs": [],
   "source": [
    "# 1 Remove all the entries that have null values\n"
   ]
  },
  {
   "cell_type": "code",
   "execution_count": 2,
   "metadata": {},
   "outputs": [
    {
     "name": "stderr",
     "output_type": "stream",
     "text": [
      "/var/folders/sx/hkqgssrx0jd_jb2_792hz_hm0000gp/T/ipykernel_31079/2022671173.py:8: FutureWarning: DataFrame.fillna with 'method' is deprecated and will raise in a future version. Use obj.ffill() or obj.bfill() instead.\n",
      "  data = data.fillna(method=\"ffill\")  # Forward fill for simplicity; adjust as needed\n"
     ]
    },
    {
     "name": "stdout",
     "output_type": "stream",
     "text": [
      "   Categorical Variable  F-Statistic       P-Value     Significance\n",
      "0                Gender     0.031099  8.600207e-01  Not Significant\n",
      "1        Marital Status     0.337613  7.134715e-01  Not Significant\n",
      "2       Education Level     1.145105  3.292494e-01  Not Significant\n",
      "3            Occupation     0.110829  8.950920e-01  Not Significant\n",
      "4              Location     0.676414  5.084371e-01  Not Significant\n",
      "5           Policy Type     0.470910  6.244336e-01  Not Significant\n",
      "6     Policy Start Date     1.078124  1.524729e-92      Significant\n",
      "7     Customer Feedback     3.038610  4.790182e-02      Significant\n",
      "8        Smoking Status     0.031783  8.585039e-01  Not Significant\n",
      "9    Exercise Frequency     0.483057  6.940501e-01  Not Significant\n",
      "10        Property Type     1.051181  3.495250e-01  Not Significant\n"
     ]
    }
   ],
   "source": [
    "import pandas as pd\n",
    "import scipy.stats as stats\n",
    "\n",
    "# Load dataset\n",
    "data = pd.read_csv(\"data/train.csv\")  # Replace with your dataset's file name\n",
    "\n",
    "# Handle missing values\n",
    "data = data.fillna(method=\"ffill\")  # Forward fill for simplicity; adjust as needed\n",
    "\n",
    "# Identify categorical columns\n",
    "categorical_columns = data.select_dtypes(include=['object', 'category']).columns.tolist()\n",
    "\n",
    "# Define target variable\n",
    "target_variable = 'Premium Amount'\n",
    "\n",
    "# Ensure the target variable is numerical\n",
    "if data[target_variable].dtype != 'float64' and data[target_variable].dtype != 'int64':\n",
    "    data[target_variable] = pd.to_numeric(data[target_variable], errors='coerce')\n",
    "\n",
    "# Remove rows with missing target values\n",
    "data = data.dropna(subset=[target_variable])\n",
    "\n",
    "# Run ANOVA for each categorical column\n",
    "anova_results = []\n",
    "for cat_col in categorical_columns:\n",
    "    try:\n",
    "        # Group data by the categorical column\n",
    "        groups = [group[target_variable].dropna() for _, group in data.groupby(cat_col)]\n",
    "        \n",
    "        # Perform ANOVA\n",
    "        f_stat, p_value = stats.f_oneway(*groups)\n",
    "        \n",
    "        # Determine significance\n",
    "        significance = \"Significant\" if p_value < 0.05 else \"Not Significant\"\n",
    "        \n",
    "        # Append results\n",
    "        anova_results.append({\n",
    "            'Categorical Variable': cat_col,\n",
    "            'F-Statistic': f_stat,\n",
    "            'P-Value': p_value,\n",
    "            'Significance': significance\n",
    "        })\n",
    "    except Exception as e:\n",
    "        # Handle cases where ANOVA cannot be computed\n",
    "        anova_results.append({\n",
    "            'Categorical Variable': cat_col,\n",
    "            'F-Statistic': None,\n",
    "            'P-Value': None,\n",
    "            'Significance': f\"Error: {str(e)}\"\n",
    "        })\n",
    "\n",
    "# Convert results to a DataFrame\n",
    "anova_df = pd.DataFrame(anova_results)\n",
    "\n",
    "print(anova_df)\n",
    "\n",
    "# Display results\n",
    "# import ace_tools as tools; tools.display_dataframe_to_user(name=\"ANOVA Results for Predicting Premium Amount\", dataframe=anova_df)"
   ]
  },
  {
   "cell_type": "code",
   "execution_count": null,
   "metadata": {},
   "outputs": [],
   "source": [
    "# The ANOVAs shows that Policy Start Date and Customer Feedback are significant in determining the Preimum amount "
   ]
  },
  {
   "cell_type": "code",
   "execution_count": 2,
   "metadata": {},
   "outputs": [
    {
     "name": "stdout",
     "output_type": "stream",
     "text": [
      "Defaulting to user installation because normal site-packages is not writeable\n",
      "Collecting scikit-learn\n",
      "  Downloading scikit_learn-1.5.2-cp311-cp311-macosx_10_9_x86_64.whl.metadata (13 kB)\n",
      "Requirement already satisfied: numpy>=1.19.5 in /Users/angwang/Library/Python/3.11/lib/python/site-packages (from scikit-learn) (1.26.4)\n",
      "Requirement already satisfied: scipy>=1.6.0 in /Users/angwang/Library/Python/3.11/lib/python/site-packages (from scikit-learn) (1.14.1)\n",
      "Requirement already satisfied: joblib>=1.2.0 in /Users/angwang/Library/Python/3.11/lib/python/site-packages (from scikit-learn) (1.4.2)\n",
      "Collecting threadpoolctl>=3.1.0 (from scikit-learn)\n",
      "  Using cached threadpoolctl-3.5.0-py3-none-any.whl.metadata (13 kB)\n",
      "Downloading scikit_learn-1.5.2-cp311-cp311-macosx_10_9_x86_64.whl (12.1 MB)\n",
      "\u001b[2K   \u001b[90m━━━━━━━━━━━━━━━━━━━━━━━━━━━━━━━━━━━━━━━━\u001b[0m \u001b[32m12.1/12.1 MB\u001b[0m \u001b[31m23.9 MB/s\u001b[0m eta \u001b[36m0:00:00\u001b[0ma \u001b[36m0:00:01\u001b[0m\n",
      "\u001b[?25hUsing cached threadpoolctl-3.5.0-py3-none-any.whl (18 kB)\n",
      "Installing collected packages: threadpoolctl, scikit-learn\n",
      "Successfully installed scikit-learn-1.5.2 threadpoolctl-3.5.0\n"
     ]
    },
    {
     "name": "stderr",
     "output_type": "stream",
     "text": [
      "/var/folders/sx/hkqgssrx0jd_jb2_792hz_hm0000gp/T/ipykernel_31216/3586487505.py:15: FutureWarning: DataFrame.fillna with 'method' is deprecated and will raise in a future version. Use obj.ffill() or obj.bfill() instead.\n",
      "  data = data.fillna(method=\"ffill\")\n"
     ]
    },
    {
     "name": "stdout",
     "output_type": "stream",
     "text": [
      "Baseline Linear Regression RMSE: 864.4064108403377\n",
      "Baseline Linear Regression RMSLE: 1.1712853742271268\n"
     ]
    }
   ],
   "source": [
    "# Linear Regression\n",
    "\n",
    "!pip install scikit-learn\n",
    "\n",
    "import pandas as pd\n",
    "import numpy as np\n",
    "from sklearn.model_selection import train_test_split\n",
    "from sklearn.linear_model import LinearRegression\n",
    "from sklearn.metrics import mean_squared_error, mean_squared_log_error\n",
    "\n",
    "# Load dataset\n",
    "data = pd.read_csv(\"data/train.csv\")  # Replace with your dataset's filename\n",
    "\n",
    "# Handle missing values\n",
    "data = data.fillna(method=\"ffill\")\n",
    "\n",
    "# Feature Engineering\n",
    "# Convert Policy Start Date to numerical feature\n",
    "data['Policy Start Date'] = pd.to_datetime(data['Policy Start Date'])\n",
    "reference_date = data['Policy Start Date'].min()\n",
    "data['Policy Days Since Start'] = (data['Policy Start Date'] - reference_date).dt.days\n",
    "\n",
    "# Encode Customer Feedback as ordinal values\n",
    "feedback_mapping = {\"Poor\": 1, \"Average\": 2, \"Good\": 3}\n",
    "data['Customer Feedback'] = data['Customer Feedback'].map(feedback_mapping)\n",
    "\n",
    "# Select features and target\n",
    "features = ['Policy Days Since Start', 'Customer Feedback']\n",
    "target = 'Premium Amount'\n",
    "\n",
    "# Ensure target is numeric\n",
    "data = data.dropna(subset=[target])\n",
    "X = data[features]\n",
    "y = data[target]\n",
    "\n",
    "# Train-test split\n",
    "X_train, X_test, y_train, y_test = train_test_split(X, y, test_size=0.2, random_state=42)\n",
    "\n",
    "# Train Linear Regression model\n",
    "model = LinearRegression()\n",
    "model.fit(X_train, y_train)\n",
    "\n",
    "# Predict and evaluate\n",
    "y_pred = model.predict(X_test)\n",
    "rmse = np.sqrt(mean_squared_error(y_test, y_pred))\n",
    "rmsle = np.sqrt(mean_squared_log_error(y_test, np.maximum(y_pred, 0)))  # Ensure no negative predictions\n",
    "\n",
    "print(f\"Baseline Linear Regression RMSE: {rmse}\")\n",
    "print(f\"Baseline Linear Regression RMSLE: {rmsle}\")"
   ]
  }
 ],
 "metadata": {
  "kernelspec": {
   "display_name": "Python 3",
   "language": "python",
   "name": "python3"
  },
  "language_info": {
   "codemirror_mode": {
    "name": "ipython",
    "version": 3
   },
   "file_extension": ".py",
   "mimetype": "text/x-python",
   "name": "python",
   "nbconvert_exporter": "python",
   "pygments_lexer": "ipython3",
   "version": "3.11.2"
  }
 },
 "nbformat": 4,
 "nbformat_minor": 2
}
